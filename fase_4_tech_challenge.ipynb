{
 "nbformat": 4,
 "nbformat_minor": 0,
 "metadata": {
  "colab": {
   "provenance": [],
   "toc_visible": true,
   "include_colab_link": true
  },
  "kernelspec": {
   "name": "python3",
   "display_name": "Python 3 (ipykernel)",
   "language": "python"
  },
  "language_info": {
   "name": "python"
  }
 },
 "cells": [
  {
   "cell_type": "markdown",
   "metadata": {
    "id": "view-in-github",
    "colab_type": "text"
   },
   "source": [
    "<a href=\"https://colab.research.google.com/github/pedro21900/fase_4_tech_challenge/blob/main/fase_4_tech_challenge.ipynb\" target=\"_parent\"><img src=\"https://colab.research.google.com/assets/colab-badge.svg\" alt=\"Open In Colab\"/></a>"
   ]
  },
  {
   "metadata": {
    "id": "3F1hrFgmarPS"
   },
   "cell_type": "markdown",
   "source": [
    "## Tech Challenge Fase 4 🎓\n",
    "\n",
    "### Sobre a base de dados 🎲\n",
    "\n",
    "A base de dados do **yfinance** (Yahoo Finance) é uma API em Python que fornece acesso a uma ampla gama de informações financeiras do mercado. Ela permite obter dados históricos de preços de ações,fundos, modedas e criptomoedas, bem  como informações fundamentais e estatísticas de mercado, como:\n",
    "\n",
    "<ol>\n",
    "    <li><b>Preços históricos:</b> Abertura, fechamento, alta, baixa e volume negociado,com suporte para intevelos variados (dia,semana, mês) </li>\n",
    "    <li><b>Dados fundamentais:<b/> Dividendos, splits de ações, balanços financeiros, lucros e métricas como P/E ratio.</li>\n",
    "    <li><b>Dados em tempo real:</b> Preços de mercado atualizados (dependendo das limitações de atraso e região).</li>\n",
    "    <li><b>Informações de mercado:</b> Volatilidade, beta, valor de mercado e outros indicadores.</li>\n",
    "</ol>    \n",
    "\n",
    "O yfinance pe amplamente ultilizado devido à facilidade de integração com pandas e à abrangência dos daos oferecidos, tornando-se uma ferramente insdispensável para análise quantitativa, estratégica de investimento e pesquisa financeira\n",
    "\n",
    "Objetivo 🚀\n",
    "\n",
    "Desenvolver um modelo preditivo ultilizando redes neurais LSTM (Long Short Term Memory) para predizer o valor de fechamento da bolsa de valores da **Disney**."
   ]
  },
  {
   "metadata": {
    "id": "oVRj6bpTarPX"
   },
   "cell_type": "markdown",
   "source": [
    "### Instalando Bibliotecas"
   ]
  },
  {
   "metadata": {
    "id": "PXXFkf48arPX",
    "ExecuteTime": {
     "end_time": "2024-12-03T17:59:32.424879Z",
     "start_time": "2024-12-03T17:58:59.082951Z"
    }
   },
   "cell_type": "code",
   "source": [
    "!pip install mlflow\n",
    "!pip install pandas\n",
    "!pip install matplotlib\n",
    "!pip install numpy\n",
    "!pip install scikit-learn\n",
    "!pip install torch\n",
    "!pip install seaborn"
   ],
   "outputs": [
    {
     "name": "stdout",
     "output_type": "stream",
     "text": [
      "Collecting mlflow\r\n",
      "  Obtaining dependency information for mlflow from https://files.pythonhosted.org/packages/f2/17/d24ec693ef27ce33f68414872f1f79ad3da62922edc6c6239a6de5336e5a/mlflow-2.18.0-py3-none-any.whl.metadata\r\n",
      "  Downloading mlflow-2.18.0-py3-none-any.whl.metadata (29 kB)\r\n",
      "Collecting mlflow-skinny==2.18.0 (from mlflow)\r\n",
      "  Obtaining dependency information for mlflow-skinny==2.18.0 from https://files.pythonhosted.org/packages/2e/1b/20128a015405fdfda2dce38b975acf19cd532f4c8dc4231fd088fb8553dd/mlflow_skinny-2.18.0-py3-none-any.whl.metadata\r\n",
      "  Downloading mlflow_skinny-2.18.0-py3-none-any.whl.metadata (30 kB)\r\n",
      "Collecting Flask<4 (from mlflow)\r\n",
      "  Obtaining dependency information for Flask<4 from https://files.pythonhosted.org/packages/af/47/93213ee66ef8fae3b93b3e29206f6b251e65c97bd91d8e1c5596ef15af0a/flask-3.1.0-py3-none-any.whl.metadata\r\n",
      "  Downloading flask-3.1.0-py3-none-any.whl.metadata (2.7 kB)\r\n",
      "Collecting alembic!=1.10.0,<2 (from mlflow)\r\n",
      "  Obtaining dependency information for alembic!=1.10.0,<2 from https://files.pythonhosted.org/packages/cb/06/8b505aea3d77021b18dcbd8133aa1418f1a1e37e432a465b14c46b2c0eaa/alembic-1.14.0-py3-none-any.whl.metadata\r\n",
      "  Downloading alembic-1.14.0-py3-none-any.whl.metadata (7.4 kB)\r\n",
      "Collecting docker<8,>=4.0.0 (from mlflow)\r\n",
      "  Obtaining dependency information for docker<8,>=4.0.0 from https://files.pythonhosted.org/packages/e3/26/57c6fb270950d476074c087527a558ccb6f4436657314bfb6cdf484114c4/docker-7.1.0-py3-none-any.whl.metadata\r\n",
      "  Downloading docker-7.1.0-py3-none-any.whl.metadata (3.8 kB)\r\n",
      "Collecting graphene<4 (from mlflow)\r\n",
      "  Obtaining dependency information for graphene<4 from https://files.pythonhosted.org/packages/66/e0/61d8e98007182e6b2aca7cf65904721fb2e4bce0192272ab9cb6f69d8812/graphene-3.4.3-py2.py3-none-any.whl.metadata\r\n",
      "  Downloading graphene-3.4.3-py2.py3-none-any.whl.metadata (6.9 kB)\r\n",
      "Collecting markdown<4,>=3.3 (from mlflow)\r\n",
      "  Obtaining dependency information for markdown<4,>=3.3 from https://files.pythonhosted.org/packages/3f/08/83871f3c50fc983b88547c196d11cf8c3340e37c32d2e9d6152abe2c61f7/Markdown-3.7-py3-none-any.whl.metadata\r\n",
      "  Downloading Markdown-3.7-py3-none-any.whl.metadata (7.0 kB)\r\n",
      "Requirement already satisfied: matplotlib<4 in ./.venv/lib/python3.12/site-packages (from mlflow) (3.9.3)\r\n",
      "Requirement already satisfied: numpy<3 in ./.venv/lib/python3.12/site-packages (from mlflow) (2.1.3)\r\n",
      "Requirement already satisfied: pandas<3 in ./.venv/lib/python3.12/site-packages (from mlflow) (2.2.3)\r\n",
      "Collecting pyarrow<19,>=4.0.0 (from mlflow)\r\n",
      "  Obtaining dependency information for pyarrow<19,>=4.0.0 from https://files.pythonhosted.org/packages/6a/50/12829e7111b932581e51dda51d5cb39207a056c30fe31ef43f14c63c4d7e/pyarrow-18.1.0-cp312-cp312-macosx_12_0_arm64.whl.metadata\r\n",
      "  Downloading pyarrow-18.1.0-cp312-cp312-macosx_12_0_arm64.whl.metadata (3.3 kB)\r\n",
      "Requirement already satisfied: scikit-learn<2 in ./.venv/lib/python3.12/site-packages (from mlflow) (1.5.2)\r\n",
      "Requirement already satisfied: scipy<2 in ./.venv/lib/python3.12/site-packages (from mlflow) (1.14.1)\r\n",
      "Collecting sqlalchemy<3,>=1.4.0 (from mlflow)\r\n",
      "  Obtaining dependency information for sqlalchemy<3,>=1.4.0 from https://files.pythonhosted.org/packages/94/65/f109d5720779a08e6e324ec89a744f5f92c48bd8005edc814bf72fbb24e5/SQLAlchemy-2.0.36-cp312-cp312-macosx_11_0_arm64.whl.metadata\r\n",
      "  Using cached SQLAlchemy-2.0.36-cp312-cp312-macosx_11_0_arm64.whl.metadata (9.7 kB)\r\n",
      "Requirement already satisfied: Jinja2<4,>=2.11 in ./.venv/lib/python3.12/site-packages (from mlflow) (3.1.4)\r\n",
      "Collecting gunicorn<24 (from mlflow)\r\n",
      "  Obtaining dependency information for gunicorn<24 from https://files.pythonhosted.org/packages/cb/7d/6dac2a6e1eba33ee43f318edbed4ff29151a49b5d37f080aad1e6469bca4/gunicorn-23.0.0-py3-none-any.whl.metadata\r\n",
      "  Downloading gunicorn-23.0.0-py3-none-any.whl.metadata (4.4 kB)\r\n",
      "Collecting cachetools<6,>=5.0.0 (from mlflow-skinny==2.18.0->mlflow)\r\n",
      "  Obtaining dependency information for cachetools<6,>=5.0.0 from https://files.pythonhosted.org/packages/a4/07/14f8ad37f2d12a5ce41206c21820d8cb6561b728e51fad4530dff0552a67/cachetools-5.5.0-py3-none-any.whl.metadata\r\n",
      "  Downloading cachetools-5.5.0-py3-none-any.whl.metadata (5.3 kB)\r\n",
      "Requirement already satisfied: click<9,>=7.0 in ./.venv/lib/python3.12/site-packages (from mlflow-skinny==2.18.0->mlflow) (8.1.7)\r\n",
      "Collecting cloudpickle<4 (from mlflow-skinny==2.18.0->mlflow)\r\n",
      "  Obtaining dependency information for cloudpickle<4 from https://files.pythonhosted.org/packages/48/41/e1d85ca3cab0b674e277c8c4f678cf66a91cd2cecf93df94353a606fe0db/cloudpickle-3.1.0-py3-none-any.whl.metadata\r\n",
      "  Downloading cloudpickle-3.1.0-py3-none-any.whl.metadata (7.0 kB)\r\n",
      "Collecting databricks-sdk<1,>=0.20.0 (from mlflow-skinny==2.18.0->mlflow)\r\n",
      "  Obtaining dependency information for databricks-sdk<1,>=0.20.0 from https://files.pythonhosted.org/packages/ed/0d/d203456eef915a40a90292be49ab87904509606d503eceff7ac8c28dbd8e/databricks_sdk-0.38.0-py3-none-any.whl.metadata\r\n",
      "  Downloading databricks_sdk-0.38.0-py3-none-any.whl.metadata (38 kB)\r\n",
      "Collecting gitpython<4,>=3.1.9 (from mlflow-skinny==2.18.0->mlflow)\r\n",
      "  Obtaining dependency information for gitpython<4,>=3.1.9 from https://files.pythonhosted.org/packages/e9/bd/cc3a402a6439c15c3d4294333e13042b915bbeab54edc457c723931fed3f/GitPython-3.1.43-py3-none-any.whl.metadata\r\n",
      "  Downloading GitPython-3.1.43-py3-none-any.whl.metadata (13 kB)\r\n",
      "Collecting importlib-metadata!=4.7.0,<9,>=3.7.0 (from mlflow-skinny==2.18.0->mlflow)\r\n",
      "  Obtaining dependency information for importlib-metadata!=4.7.0,<9,>=3.7.0 from https://files.pythonhosted.org/packages/a0/d9/a1e041c5e7caa9a05c925f4bdbdfb7f006d1f74996af53467bc394c97be7/importlib_metadata-8.5.0-py3-none-any.whl.metadata\r\n",
      "  Downloading importlib_metadata-8.5.0-py3-none-any.whl.metadata (4.8 kB)\r\n",
      "Collecting opentelemetry-api<3,>=1.9.0 (from mlflow-skinny==2.18.0->mlflow)\r\n",
      "  Obtaining dependency information for opentelemetry-api<3,>=1.9.0 from https://files.pythonhosted.org/packages/4d/58/b17393cdfc149e14ee84c662abf921993dcce8058628359ef1f49e2abb97/opentelemetry_api-1.28.2-py3-none-any.whl.metadata\r\n",
      "  Downloading opentelemetry_api-1.28.2-py3-none-any.whl.metadata (1.4 kB)\r\n",
      "Collecting opentelemetry-sdk<3,>=1.9.0 (from mlflow-skinny==2.18.0->mlflow)\r\n",
      "  Obtaining dependency information for opentelemetry-sdk<3,>=1.9.0 from https://files.pythonhosted.org/packages/da/8b/4f2b418496c08016d4384f9b1c4725a8af7faafa248d624be4bb95993ce1/opentelemetry_sdk-1.28.2-py3-none-any.whl.metadata\r\n",
      "  Downloading opentelemetry_sdk-1.28.2-py3-none-any.whl.metadata (1.5 kB)\r\n",
      "Requirement already satisfied: packaging<25 in ./.venv/lib/python3.12/site-packages (from mlflow-skinny==2.18.0->mlflow) (24.2)\r\n",
      "Collecting protobuf<6,>=3.12.0 (from mlflow-skinny==2.18.0->mlflow)\r\n",
      "  Obtaining dependency information for protobuf<6,>=3.12.0 from https://files.pythonhosted.org/packages/da/97/faeca508d61b231372cdc3006084fd97f21f3c8c726a2de5f2ebb8e4ab78/protobuf-5.29.0-cp38-abi3-macosx_10_9_universal2.whl.metadata\r\n",
      "  Downloading protobuf-5.29.0-cp38-abi3-macosx_10_9_universal2.whl.metadata (592 bytes)\r\n",
      "Requirement already satisfied: pyyaml<7,>=5.1 in ./.venv/lib/python3.12/site-packages (from mlflow-skinny==2.18.0->mlflow) (6.0.2)\r\n",
      "Requirement already satisfied: requests<3,>=2.17.3 in ./.venv/lib/python3.12/site-packages (from mlflow-skinny==2.18.0->mlflow) (2.32.3)\r\n",
      "Collecting sqlparse<1,>=0.4.0 (from mlflow-skinny==2.18.0->mlflow)\r\n",
      "  Obtaining dependency information for sqlparse<1,>=0.4.0 from https://files.pythonhosted.org/packages/7a/13/5f6654c9d915077fae255686ca6fa42095b62b7337e3e1aa9e82caa6f43a/sqlparse-0.5.2-py3-none-any.whl.metadata\r\n",
      "  Downloading sqlparse-0.5.2-py3-none-any.whl.metadata (3.9 kB)\r\n",
      "Collecting Mako (from alembic!=1.10.0,<2->mlflow)\r\n",
      "  Obtaining dependency information for Mako from https://files.pythonhosted.org/packages/48/22/bc14c6f02e6dccaafb3eba95764c8f096714260c2aa5f76f654fd16a23dd/Mako-1.3.6-py3-none-any.whl.metadata\r\n",
      "  Downloading Mako-1.3.6-py3-none-any.whl.metadata (2.9 kB)\r\n",
      "Requirement already satisfied: typing-extensions>=4 in ./.venv/lib/python3.12/site-packages (from alembic!=1.10.0,<2->mlflow) (4.12.2)\r\n",
      "Requirement already satisfied: urllib3>=1.26.0 in ./.venv/lib/python3.12/site-packages (from docker<8,>=4.0.0->mlflow) (2.2.3)\r\n",
      "Collecting Werkzeug>=3.1 (from Flask<4->mlflow)\r\n",
      "  Obtaining dependency information for Werkzeug>=3.1 from https://files.pythonhosted.org/packages/52/24/ab44c871b0f07f491e5d2ad12c9bd7358e527510618cb1b803a88e986db1/werkzeug-3.1.3-py3-none-any.whl.metadata\r\n",
      "  Downloading werkzeug-3.1.3-py3-none-any.whl.metadata (3.7 kB)\r\n",
      "Collecting itsdangerous>=2.2 (from Flask<4->mlflow)\r\n",
      "  Obtaining dependency information for itsdangerous>=2.2 from https://files.pythonhosted.org/packages/04/96/92447566d16df59b2a776c0fb82dbc4d9e07cd95062562af01e408583fc4/itsdangerous-2.2.0-py3-none-any.whl.metadata\r\n",
      "  Using cached itsdangerous-2.2.0-py3-none-any.whl.metadata (1.9 kB)\r\n",
      "Collecting blinker>=1.9 (from Flask<4->mlflow)\r\n",
      "  Obtaining dependency information for blinker>=1.9 from https://files.pythonhosted.org/packages/10/cb/f2ad4230dc2eb1a74edf38f1a38b9b52277f75bef262d8908e60d957e13c/blinker-1.9.0-py3-none-any.whl.metadata\r\n",
      "  Downloading blinker-1.9.0-py3-none-any.whl.metadata (1.6 kB)\r\n",
      "Collecting graphql-core<3.3,>=3.1 (from graphene<4->mlflow)\r\n",
      "  Obtaining dependency information for graphql-core<3.3,>=3.1 from https://files.pythonhosted.org/packages/e3/dc/078bd6b304de790618ebb95e2aedaadb78f4527ac43a9ad8815f006636b6/graphql_core-3.2.5-py3-none-any.whl.metadata\r\n",
      "  Downloading graphql_core-3.2.5-py3-none-any.whl.metadata (10 kB)\r\n",
      "Collecting graphql-relay<3.3,>=3.1 (from graphene<4->mlflow)\r\n",
      "  Obtaining dependency information for graphql-relay<3.3,>=3.1 from https://files.pythonhosted.org/packages/74/16/a4cf06adbc711bd364a73ce043b0b08d8fa5aae3df11b6ee4248bcdad2e0/graphql_relay-3.2.0-py3-none-any.whl.metadata\r\n",
      "  Downloading graphql_relay-3.2.0-py3-none-any.whl.metadata (12 kB)\r\n",
      "Requirement already satisfied: python-dateutil<3,>=2.7.0 in ./.venv/lib/python3.12/site-packages (from graphene<4->mlflow) (2.9.0.post0)\r\n",
      "Requirement already satisfied: MarkupSafe>=2.0 in ./.venv/lib/python3.12/site-packages (from Jinja2<4,>=2.11->mlflow) (3.0.2)\r\n",
      "Requirement already satisfied: contourpy>=1.0.1 in ./.venv/lib/python3.12/site-packages (from matplotlib<4->mlflow) (1.3.1)\r\n",
      "Requirement already satisfied: cycler>=0.10 in ./.venv/lib/python3.12/site-packages (from matplotlib<4->mlflow) (0.12.1)\r\n",
      "Requirement already satisfied: fonttools>=4.22.0 in ./.venv/lib/python3.12/site-packages (from matplotlib<4->mlflow) (4.55.1)\r\n",
      "Requirement already satisfied: kiwisolver>=1.3.1 in ./.venv/lib/python3.12/site-packages (from matplotlib<4->mlflow) (1.4.7)\r\n",
      "Requirement already satisfied: pillow>=8 in ./.venv/lib/python3.12/site-packages (from matplotlib<4->mlflow) (11.0.0)\r\n",
      "Requirement already satisfied: pyparsing>=2.3.1 in ./.venv/lib/python3.12/site-packages (from matplotlib<4->mlflow) (3.2.0)\r\n",
      "Requirement already satisfied: pytz>=2020.1 in ./.venv/lib/python3.12/site-packages (from pandas<3->mlflow) (2024.2)\r\n",
      "Requirement already satisfied: tzdata>=2022.7 in ./.venv/lib/python3.12/site-packages (from pandas<3->mlflow) (2024.2)\r\n",
      "Requirement already satisfied: joblib>=1.2.0 in ./.venv/lib/python3.12/site-packages (from scikit-learn<2->mlflow) (1.4.2)\r\n",
      "Requirement already satisfied: threadpoolctl>=3.1.0 in ./.venv/lib/python3.12/site-packages (from scikit-learn<2->mlflow) (3.5.0)\r\n",
      "Collecting google-auth~=2.0 (from databricks-sdk<1,>=0.20.0->mlflow-skinny==2.18.0->mlflow)\r\n",
      "  Obtaining dependency information for google-auth~=2.0 from https://files.pythonhosted.org/packages/2d/9a/3d5087d27865c2f0431b942b5c4500b7d1b744dd3262fdc973a4c39d099e/google_auth-2.36.0-py2.py3-none-any.whl.metadata\r\n",
      "  Downloading google_auth-2.36.0-py2.py3-none-any.whl.metadata (4.7 kB)\r\n",
      "Collecting gitdb<5,>=4.0.1 (from gitpython<4,>=3.1.9->mlflow-skinny==2.18.0->mlflow)\r\n",
      "  Obtaining dependency information for gitdb<5,>=4.0.1 from https://files.pythonhosted.org/packages/fd/5b/8f0c4a5bb9fd491c277c21eff7ccae71b47d43c4446c9d0c6cff2fe8c2c4/gitdb-4.0.11-py3-none-any.whl.metadata\r\n",
      "  Downloading gitdb-4.0.11-py3-none-any.whl.metadata (1.2 kB)\r\n",
      "Collecting zipp>=3.20 (from importlib-metadata!=4.7.0,<9,>=3.7.0->mlflow-skinny==2.18.0->mlflow)\r\n",
      "  Obtaining dependency information for zipp>=3.20 from https://files.pythonhosted.org/packages/b7/1a/7e4798e9339adc931158c9d69ecc34f5e6791489d469f5e50ec15e35f458/zipp-3.21.0-py3-none-any.whl.metadata\r\n",
      "  Downloading zipp-3.21.0-py3-none-any.whl.metadata (3.7 kB)\r\n",
      "Collecting deprecated>=1.2.6 (from opentelemetry-api<3,>=1.9.0->mlflow-skinny==2.18.0->mlflow)\r\n",
      "  Obtaining dependency information for deprecated>=1.2.6 from https://files.pythonhosted.org/packages/1d/8f/c7f227eb42cfeaddce3eb0c96c60cbca37797fa7b34f8e1aeadf6c5c0983/Deprecated-1.2.15-py2.py3-none-any.whl.metadata\r\n",
      "  Downloading Deprecated-1.2.15-py2.py3-none-any.whl.metadata (5.5 kB)\r\n",
      "Collecting opentelemetry-semantic-conventions==0.49b2 (from opentelemetry-sdk<3,>=1.9.0->mlflow-skinny==2.18.0->mlflow)\r\n",
      "  Obtaining dependency information for opentelemetry-semantic-conventions==0.49b2 from https://files.pythonhosted.org/packages/b1/be/6661c8f76708bb3ba38c90be8fa8d7ffe17ccbc5cbbc229334f5535f6448/opentelemetry_semantic_conventions-0.49b2-py3-none-any.whl.metadata\r\n",
      "  Downloading opentelemetry_semantic_conventions-0.49b2-py3-none-any.whl.metadata (2.3 kB)\r\n",
      "Requirement already satisfied: six>=1.5 in ./.venv/lib/python3.12/site-packages (from python-dateutil<3,>=2.7.0->graphene<4->mlflow) (1.16.0)\r\n",
      "Requirement already satisfied: charset-normalizer<4,>=2 in ./.venv/lib/python3.12/site-packages (from requests<3,>=2.17.3->mlflow-skinny==2.18.0->mlflow) (3.4.0)\r\n",
      "Requirement already satisfied: idna<4,>=2.5 in ./.venv/lib/python3.12/site-packages (from requests<3,>=2.17.3->mlflow-skinny==2.18.0->mlflow) (3.10)\r\n",
      "Requirement already satisfied: certifi>=2017.4.17 in ./.venv/lib/python3.12/site-packages (from requests<3,>=2.17.3->mlflow-skinny==2.18.0->mlflow) (2024.8.30)\r\n",
      "Collecting wrapt<2,>=1.10 (from deprecated>=1.2.6->opentelemetry-api<3,>=1.9.0->mlflow-skinny==2.18.0->mlflow)\r\n",
      "  Obtaining dependency information for wrapt<2,>=1.10 from https://files.pythonhosted.org/packages/85/82/518605474beafff11f1a34759f6410ab429abff9f7881858a447e0d20712/wrapt-1.17.0-cp312-cp312-macosx_11_0_arm64.whl.metadata\r\n",
      "  Downloading wrapt-1.17.0-cp312-cp312-macosx_11_0_arm64.whl.metadata (6.4 kB)\r\n",
      "Collecting smmap<6,>=3.0.1 (from gitdb<5,>=4.0.1->gitpython<4,>=3.1.9->mlflow-skinny==2.18.0->mlflow)\r\n",
      "  Obtaining dependency information for smmap<6,>=3.0.1 from https://files.pythonhosted.org/packages/a7/a5/10f97f73544edcdef54409f1d839f6049a0d79df68adbc1ceb24d1aaca42/smmap-5.0.1-py3-none-any.whl.metadata\r\n",
      "  Downloading smmap-5.0.1-py3-none-any.whl.metadata (4.3 kB)\r\n",
      "Collecting pyasn1-modules>=0.2.1 (from google-auth~=2.0->databricks-sdk<1,>=0.20.0->mlflow-skinny==2.18.0->mlflow)\r\n",
      "  Obtaining dependency information for pyasn1-modules>=0.2.1 from https://files.pythonhosted.org/packages/77/89/bc88a6711935ba795a679ea6ebee07e128050d6382eaa35a0a47c8032bdc/pyasn1_modules-0.4.1-py3-none-any.whl.metadata\r\n",
      "  Downloading pyasn1_modules-0.4.1-py3-none-any.whl.metadata (3.5 kB)\r\n",
      "Collecting rsa<5,>=3.1.4 (from google-auth~=2.0->databricks-sdk<1,>=0.20.0->mlflow-skinny==2.18.0->mlflow)\r\n",
      "  Obtaining dependency information for rsa<5,>=3.1.4 from https://files.pythonhosted.org/packages/49/97/fa78e3d2f65c02c8e1268b9aba606569fe97f6c8f7c2d74394553347c145/rsa-4.9-py3-none-any.whl.metadata\r\n",
      "  Downloading rsa-4.9-py3-none-any.whl.metadata (4.2 kB)\r\n",
      "Collecting pyasn1<0.7.0,>=0.4.6 (from pyasn1-modules>=0.2.1->google-auth~=2.0->databricks-sdk<1,>=0.20.0->mlflow-skinny==2.18.0->mlflow)\r\n",
      "  Obtaining dependency information for pyasn1<0.7.0,>=0.4.6 from https://files.pythonhosted.org/packages/c8/f1/d6a797abb14f6283c0ddff96bbdd46937f64122b8c925cab503dd37f8214/pyasn1-0.6.1-py3-none-any.whl.metadata\r\n",
      "  Downloading pyasn1-0.6.1-py3-none-any.whl.metadata (8.4 kB)\r\n",
      "Downloading mlflow-2.18.0-py3-none-any.whl (27.3 MB)\r\n",
      "\u001B[2K   \u001B[90m━━━━━━━━━━━━━━━━━━━━━━━━━━━━━━━━━━━━━━━━\u001B[0m \u001B[32m27.3/27.3 MB\u001B[0m \u001B[31m37.2 MB/s\u001B[0m eta \u001B[36m0:00:00\u001B[0m00:01\u001B[0m00:01\u001B[0m\r\n",
      "\u001B[?25hDownloading mlflow_skinny-2.18.0-py3-none-any.whl (5.8 MB)\r\n",
      "\u001B[2K   \u001B[90m━━━━━━━━━━━━━━━━━━━━━━━━━━━━━━━━━━━━━━━━\u001B[0m \u001B[32m5.8/5.8 MB\u001B[0m \u001B[31m37.0 MB/s\u001B[0m eta \u001B[36m0:00:00\u001B[0m00:01\u001B[0m00:01\u001B[0m\r\n",
      "\u001B[?25hDownloading alembic-1.14.0-py3-none-any.whl (233 kB)\r\n",
      "\u001B[2K   \u001B[90m━━━━━━━━━━━━━━━━━━━━━━━━━━━━━━━━━━━━━━━━\u001B[0m \u001B[32m233.5/233.5 kB\u001B[0m \u001B[31m19.3 MB/s\u001B[0m eta \u001B[36m0:00:00\u001B[0m\r\n",
      "\u001B[?25hDownloading docker-7.1.0-py3-none-any.whl (147 kB)\r\n",
      "\u001B[2K   \u001B[90m━━━━━━━━━━━━━━━━━━━━━━━━━━━━━━━━━━━━━━━━\u001B[0m \u001B[32m147.8/147.8 kB\u001B[0m \u001B[31m11.7 MB/s\u001B[0m eta \u001B[36m0:00:00\u001B[0m\r\n",
      "\u001B[?25hDownloading flask-3.1.0-py3-none-any.whl (102 kB)\r\n",
      "\u001B[2K   \u001B[90m━━━━━━━━━━━━━━━━━━━━━━━━━━━━━━━━━━━━━━━━\u001B[0m \u001B[32m103.0/103.0 kB\u001B[0m \u001B[31m10.7 MB/s\u001B[0m eta \u001B[36m0:00:00\u001B[0m\r\n",
      "\u001B[?25hDownloading graphene-3.4.3-py2.py3-none-any.whl (114 kB)\r\n",
      "\u001B[2K   \u001B[90m━━━━━━━━━━━━━━━━━━━━━━━━━━━━━━━━━━━━━━━━\u001B[0m \u001B[32m114.9/114.9 kB\u001B[0m \u001B[31m12.9 MB/s\u001B[0m eta \u001B[36m0:00:00\u001B[0m\r\n",
      "\u001B[?25hDownloading gunicorn-23.0.0-py3-none-any.whl (85 kB)\r\n",
      "\u001B[2K   \u001B[90m━━━━━━━━━━━━━━━━━━━━━━━━━━━━━━━━━━━━━━━━\u001B[0m \u001B[32m85.0/85.0 kB\u001B[0m \u001B[31m9.8 MB/s\u001B[0m eta \u001B[36m0:00:00\u001B[0m\r\n",
      "\u001B[?25hDownloading Markdown-3.7-py3-none-any.whl (106 kB)\r\n",
      "\u001B[2K   \u001B[90m━━━━━━━━━━━━━━━━━━━━━━━━━━━━━━━━━━━━━━━━\u001B[0m \u001B[32m106.3/106.3 kB\u001B[0m \u001B[31m13.9 MB/s\u001B[0m eta \u001B[36m0:00:00\u001B[0m\r\n",
      "\u001B[?25hDownloading pyarrow-18.1.0-cp312-cp312-macosx_12_0_arm64.whl (29.5 MB)\r\n",
      "\u001B[2K   \u001B[90m━━━━━━━━━━━━━━━━━━━━━━━━━━━━━━━━━━━━━━━━\u001B[0m \u001B[32m29.5/29.5 MB\u001B[0m \u001B[31m33.9 MB/s\u001B[0m eta \u001B[36m0:00:00\u001B[0m00:01\u001B[0m00:01\u001B[0m\r\n",
      "\u001B[?25hUsing cached SQLAlchemy-2.0.36-cp312-cp312-macosx_11_0_arm64.whl (2.1 MB)\r\n",
      "Downloading blinker-1.9.0-py3-none-any.whl (8.5 kB)\r\n",
      "Downloading cachetools-5.5.0-py3-none-any.whl (9.5 kB)\r\n",
      "Downloading cloudpickle-3.1.0-py3-none-any.whl (22 kB)\r\n",
      "Downloading databricks_sdk-0.38.0-py3-none-any.whl (575 kB)\r\n",
      "\u001B[2K   \u001B[90m━━━━━━━━━━━━━━━━━━━━━━━━━━━━━━━━━━━━━━━━\u001B[0m \u001B[32m575.1/575.1 kB\u001B[0m \u001B[31m25.9 MB/s\u001B[0m eta \u001B[36m0:00:00\u001B[0m\r\n",
      "\u001B[?25hDownloading GitPython-3.1.43-py3-none-any.whl (207 kB)\r\n",
      "\u001B[2K   \u001B[90m━━━━━━━━━━━━━━━━━━━━━━━━━━━━━━━━━━━━━━━━\u001B[0m \u001B[32m207.3/207.3 kB\u001B[0m \u001B[31m19.0 MB/s\u001B[0m eta \u001B[36m0:00:00\u001B[0m\r\n",
      "\u001B[?25hDownloading graphql_core-3.2.5-py3-none-any.whl (203 kB)\r\n",
      "\u001B[2K   \u001B[90m━━━━━━━━━━━━━━━━━━━━━━━━━━━━━━━━━━━━━━━━\u001B[0m \u001B[32m203.2/203.2 kB\u001B[0m \u001B[31m16.4 MB/s\u001B[0m eta \u001B[36m0:00:00\u001B[0m\r\n",
      "\u001B[?25hDownloading graphql_relay-3.2.0-py3-none-any.whl (16 kB)\r\n",
      "Downloading importlib_metadata-8.5.0-py3-none-any.whl (26 kB)\r\n",
      "Using cached itsdangerous-2.2.0-py3-none-any.whl (16 kB)\r\n",
      "Downloading opentelemetry_api-1.28.2-py3-none-any.whl (64 kB)\r\n",
      "\u001B[2K   \u001B[90m━━━━━━━━━━━━━━━━━━━━━━━━━━━━━━━━━━━━━━━━\u001B[0m \u001B[32m64.3/64.3 kB\u001B[0m \u001B[31m9.0 MB/s\u001B[0m eta \u001B[36m0:00:00\u001B[0m\r\n",
      "\u001B[?25hDownloading opentelemetry_sdk-1.28.2-py3-none-any.whl (118 kB)\r\n",
      "\u001B[2K   \u001B[90m━━━━━━━━━━━━━━━━━━━━━━━━━━━━━━━━━━━━━━━━\u001B[0m \u001B[32m118.8/118.8 kB\u001B[0m \u001B[31m18.3 MB/s\u001B[0m eta \u001B[36m0:00:00\u001B[0m\r\n",
      "\u001B[?25hDownloading opentelemetry_semantic_conventions-0.49b2-py3-none-any.whl (159 kB)\r\n",
      "\u001B[2K   \u001B[90m━━━━━━━━━━━━━━━━━━━━━━━━━━━━━━━━━━━━━━━━\u001B[0m \u001B[32m159.2/159.2 kB\u001B[0m \u001B[31m16.6 MB/s\u001B[0m eta \u001B[36m0:00:00\u001B[0m\r\n",
      "\u001B[?25hDownloading protobuf-5.29.0-cp38-abi3-macosx_10_9_universal2.whl (417 kB)\r\n",
      "\u001B[2K   \u001B[90m━━━━━━━━━━━━━━━━━━━━━━━━━━━━━━━━━━━━━━━━\u001B[0m \u001B[32m417.8/417.8 kB\u001B[0m \u001B[31m22.1 MB/s\u001B[0m eta \u001B[36m0:00:00\u001B[0m\r\n",
      "\u001B[?25hDownloading sqlparse-0.5.2-py3-none-any.whl (44 kB)\r\n",
      "\u001B[2K   \u001B[90m━━━━━━━━━━━━━━━━━━━━━━━━━━━━━━━━━━━━━━━━\u001B[0m \u001B[32m44.4/44.4 kB\u001B[0m \u001B[31m4.2 MB/s\u001B[0m eta \u001B[36m0:00:00\u001B[0m\r\n",
      "\u001B[?25hDownloading werkzeug-3.1.3-py3-none-any.whl (224 kB)\r\n",
      "\u001B[2K   \u001B[90m━━━━━━━━━━━━━━━━━━━━━━━━━━━━━━━━━━━━━━━━\u001B[0m \u001B[32m224.5/224.5 kB\u001B[0m \u001B[31m21.3 MB/s\u001B[0m eta \u001B[36m0:00:00\u001B[0m\r\n",
      "\u001B[?25hDownloading Mako-1.3.6-py3-none-any.whl (78 kB)\r\n",
      "\u001B[2K   \u001B[90m━━━━━━━━━━━━━━━━━━━━━━━━━━━━━━━━━━━━━━━━\u001B[0m \u001B[32m78.6/78.6 kB\u001B[0m \u001B[31m9.7 MB/s\u001B[0m eta \u001B[36m0:00:00\u001B[0m\r\n",
      "\u001B[?25hDownloading Deprecated-1.2.15-py2.py3-none-any.whl (9.9 kB)\r\n",
      "Downloading gitdb-4.0.11-py3-none-any.whl (62 kB)\r\n",
      "\u001B[2K   \u001B[90m━━━━━━━━━━━━━━━━━━━━━━━━━━━━━━━━━━━━━━━━\u001B[0m \u001B[32m62.7/62.7 kB\u001B[0m \u001B[31m9.0 MB/s\u001B[0m eta \u001B[36m0:00:00\u001B[0m\r\n",
      "\u001B[?25hDownloading google_auth-2.36.0-py2.py3-none-any.whl (209 kB)\r\n",
      "\u001B[2K   \u001B[90m━━━━━━━━━━━━━━━━━━━━━━━━━━━━━━━━━━━━━━━━\u001B[0m \u001B[32m209.5/209.5 kB\u001B[0m \u001B[31m21.9 MB/s\u001B[0m eta \u001B[36m0:00:00\u001B[0m\r\n",
      "\u001B[?25hDownloading zipp-3.21.0-py3-none-any.whl (9.6 kB)\r\n",
      "Downloading pyasn1_modules-0.4.1-py3-none-any.whl (181 kB)\r\n",
      "\u001B[2K   \u001B[90m━━━━━━━━━━━━━━━━━━━━━━━━━━━━━━━━━━━━━━━━\u001B[0m \u001B[32m181.5/181.5 kB\u001B[0m \u001B[31m18.3 MB/s\u001B[0m eta \u001B[36m0:00:00\u001B[0m\r\n",
      "\u001B[?25hDownloading rsa-4.9-py3-none-any.whl (34 kB)\r\n",
      "Downloading smmap-5.0.1-py3-none-any.whl (24 kB)\r\n",
      "Downloading wrapt-1.17.0-cp312-cp312-macosx_11_0_arm64.whl (38 kB)\r\n",
      "Downloading pyasn1-0.6.1-py3-none-any.whl (83 kB)\r\n",
      "\u001B[2K   \u001B[90m━━━━━━━━━━━━━━━━━━━━━━━━━━━━━━━━━━━━━━━━\u001B[0m \u001B[32m83.1/83.1 kB\u001B[0m \u001B[31m8.9 MB/s\u001B[0m eta \u001B[36m0:00:00\u001B[0m\r\n",
      "\u001B[?25hInstalling collected packages: zipp, wrapt, Werkzeug, sqlparse, sqlalchemy, smmap, pyasn1, pyarrow, protobuf, markdown, Mako, itsdangerous, gunicorn, graphql-core, cloudpickle, cachetools, blinker, rsa, pyasn1-modules, importlib-metadata, graphql-relay, gitdb, Flask, docker, deprecated, alembic, opentelemetry-api, graphene, google-auth, gitpython, opentelemetry-semantic-conventions, databricks-sdk, opentelemetry-sdk, mlflow-skinny, mlflow\r\n",
      "Successfully installed Flask-3.1.0 Mako-1.3.6 Werkzeug-3.1.3 alembic-1.14.0 blinker-1.9.0 cachetools-5.5.0 cloudpickle-3.1.0 databricks-sdk-0.38.0 deprecated-1.2.15 docker-7.1.0 gitdb-4.0.11 gitpython-3.1.43 google-auth-2.36.0 graphene-3.4.3 graphql-core-3.2.5 graphql-relay-3.2.0 gunicorn-23.0.0 importlib-metadata-8.5.0 itsdangerous-2.2.0 markdown-3.7 mlflow-2.18.0 mlflow-skinny-2.18.0 opentelemetry-api-1.28.2 opentelemetry-sdk-1.28.2 opentelemetry-semantic-conventions-0.49b2 protobuf-5.29.0 pyarrow-18.1.0 pyasn1-0.6.1 pyasn1-modules-0.4.1 rsa-4.9 smmap-5.0.1 sqlalchemy-2.0.36 sqlparse-0.5.2 wrapt-1.17.0 zipp-3.21.0\r\n",
      "\r\n",
      "\u001B[1m[\u001B[0m\u001B[34;49mnotice\u001B[0m\u001B[1;39;49m]\u001B[0m\u001B[39;49m A new release of pip is available: \u001B[0m\u001B[31;49m23.2.1\u001B[0m\u001B[39;49m -> \u001B[0m\u001B[32;49m24.3.1\u001B[0m\r\n",
      "\u001B[1m[\u001B[0m\u001B[34;49mnotice\u001B[0m\u001B[1;39;49m]\u001B[0m\u001B[39;49m To update, run: \u001B[0m\u001B[32;49mpip install --upgrade pip\u001B[0m\r\n",
      "Requirement already satisfied: pandas in ./.venv/lib/python3.12/site-packages (2.2.3)\r\n",
      "Requirement already satisfied: numpy>=1.26.0 in ./.venv/lib/python3.12/site-packages (from pandas) (2.1.3)\r\n",
      "Requirement already satisfied: python-dateutil>=2.8.2 in ./.venv/lib/python3.12/site-packages (from pandas) (2.9.0.post0)\r\n",
      "Requirement already satisfied: pytz>=2020.1 in ./.venv/lib/python3.12/site-packages (from pandas) (2024.2)\r\n",
      "Requirement already satisfied: tzdata>=2022.7 in ./.venv/lib/python3.12/site-packages (from pandas) (2024.2)\r\n",
      "Requirement already satisfied: six>=1.5 in ./.venv/lib/python3.12/site-packages (from python-dateutil>=2.8.2->pandas) (1.16.0)\r\n",
      "\r\n",
      "\u001B[1m[\u001B[0m\u001B[34;49mnotice\u001B[0m\u001B[1;39;49m]\u001B[0m\u001B[39;49m A new release of pip is available: \u001B[0m\u001B[31;49m23.2.1\u001B[0m\u001B[39;49m -> \u001B[0m\u001B[32;49m24.3.1\u001B[0m\r\n",
      "\u001B[1m[\u001B[0m\u001B[34;49mnotice\u001B[0m\u001B[1;39;49m]\u001B[0m\u001B[39;49m To update, run: \u001B[0m\u001B[32;49mpip install --upgrade pip\u001B[0m\r\n",
      "Requirement already satisfied: matplotlib in ./.venv/lib/python3.12/site-packages (3.9.3)\r\n",
      "Requirement already satisfied: contourpy>=1.0.1 in ./.venv/lib/python3.12/site-packages (from matplotlib) (1.3.1)\r\n",
      "Requirement already satisfied: cycler>=0.10 in ./.venv/lib/python3.12/site-packages (from matplotlib) (0.12.1)\r\n",
      "Requirement already satisfied: fonttools>=4.22.0 in ./.venv/lib/python3.12/site-packages (from matplotlib) (4.55.1)\r\n",
      "Requirement already satisfied: kiwisolver>=1.3.1 in ./.venv/lib/python3.12/site-packages (from matplotlib) (1.4.7)\r\n",
      "Requirement already satisfied: numpy>=1.23 in ./.venv/lib/python3.12/site-packages (from matplotlib) (2.1.3)\r\n",
      "Requirement already satisfied: packaging>=20.0 in ./.venv/lib/python3.12/site-packages (from matplotlib) (24.2)\r\n",
      "Requirement already satisfied: pillow>=8 in ./.venv/lib/python3.12/site-packages (from matplotlib) (11.0.0)\r\n",
      "Requirement already satisfied: pyparsing>=2.3.1 in ./.venv/lib/python3.12/site-packages (from matplotlib) (3.2.0)\r\n",
      "Requirement already satisfied: python-dateutil>=2.7 in ./.venv/lib/python3.12/site-packages (from matplotlib) (2.9.0.post0)\r\n",
      "Requirement already satisfied: six>=1.5 in ./.venv/lib/python3.12/site-packages (from python-dateutil>=2.7->matplotlib) (1.16.0)\r\n",
      "\r\n",
      "\u001B[1m[\u001B[0m\u001B[34;49mnotice\u001B[0m\u001B[1;39;49m]\u001B[0m\u001B[39;49m A new release of pip is available: \u001B[0m\u001B[31;49m23.2.1\u001B[0m\u001B[39;49m -> \u001B[0m\u001B[32;49m24.3.1\u001B[0m\r\n",
      "\u001B[1m[\u001B[0m\u001B[34;49mnotice\u001B[0m\u001B[1;39;49m]\u001B[0m\u001B[39;49m To update, run: \u001B[0m\u001B[32;49mpip install --upgrade pip\u001B[0m\r\n",
      "Requirement already satisfied: numpy in ./.venv/lib/python3.12/site-packages (2.1.3)\r\n",
      "\r\n",
      "\u001B[1m[\u001B[0m\u001B[34;49mnotice\u001B[0m\u001B[1;39;49m]\u001B[0m\u001B[39;49m A new release of pip is available: \u001B[0m\u001B[31;49m23.2.1\u001B[0m\u001B[39;49m -> \u001B[0m\u001B[32;49m24.3.1\u001B[0m\r\n",
      "\u001B[1m[\u001B[0m\u001B[34;49mnotice\u001B[0m\u001B[1;39;49m]\u001B[0m\u001B[39;49m To update, run: \u001B[0m\u001B[32;49mpip install --upgrade pip\u001B[0m\r\n",
      "Requirement already satisfied: scikit-learn in ./.venv/lib/python3.12/site-packages (1.5.2)\r\n",
      "Requirement already satisfied: numpy>=1.19.5 in ./.venv/lib/python3.12/site-packages (from scikit-learn) (2.1.3)\r\n",
      "Requirement already satisfied: scipy>=1.6.0 in ./.venv/lib/python3.12/site-packages (from scikit-learn) (1.14.1)\r\n",
      "Requirement already satisfied: joblib>=1.2.0 in ./.venv/lib/python3.12/site-packages (from scikit-learn) (1.4.2)\r\n",
      "Requirement already satisfied: threadpoolctl>=3.1.0 in ./.venv/lib/python3.12/site-packages (from scikit-learn) (3.5.0)\r\n",
      "\r\n",
      "\u001B[1m[\u001B[0m\u001B[34;49mnotice\u001B[0m\u001B[1;39;49m]\u001B[0m\u001B[39;49m A new release of pip is available: \u001B[0m\u001B[31;49m23.2.1\u001B[0m\u001B[39;49m -> \u001B[0m\u001B[32;49m24.3.1\u001B[0m\r\n",
      "\u001B[1m[\u001B[0m\u001B[34;49mnotice\u001B[0m\u001B[1;39;49m]\u001B[0m\u001B[39;49m To update, run: \u001B[0m\u001B[32;49mpip install --upgrade pip\u001B[0m\r\n",
      "Collecting torch\r\n",
      "  Obtaining dependency information for torch from https://files.pythonhosted.org/packages/57/6c/bf52ff061da33deb9f94f4121fde7ff3058812cb7d2036c97bc167793bd1/torch-2.5.1-cp312-none-macosx_11_0_arm64.whl.metadata\r\n",
      "  Downloading torch-2.5.1-cp312-none-macosx_11_0_arm64.whl.metadata (28 kB)\r\n",
      "Collecting filelock (from torch)\r\n",
      "  Obtaining dependency information for filelock from https://files.pythonhosted.org/packages/b9/f8/feced7779d755758a52d1f6635d990b8d98dc0a29fa568bbe0625f18fdf3/filelock-3.16.1-py3-none-any.whl.metadata\r\n",
      "  Downloading filelock-3.16.1-py3-none-any.whl.metadata (2.9 kB)\r\n",
      "Requirement already satisfied: typing-extensions>=4.8.0 in ./.venv/lib/python3.12/site-packages (from torch) (4.12.2)\r\n",
      "Collecting networkx (from torch)\r\n",
      "  Obtaining dependency information for networkx from https://files.pythonhosted.org/packages/b9/54/dd730b32ea14ea797530a4479b2ed46a6fb250f682a9cfb997e968bf0261/networkx-3.4.2-py3-none-any.whl.metadata\r\n",
      "  Downloading networkx-3.4.2-py3-none-any.whl.metadata (6.3 kB)\r\n",
      "Requirement already satisfied: jinja2 in ./.venv/lib/python3.12/site-packages (from torch) (3.1.4)\r\n",
      "Collecting fsspec (from torch)\r\n",
      "  Obtaining dependency information for fsspec from https://files.pythonhosted.org/packages/c6/b2/454d6e7f0158951d8a78c2e1eb4f69ae81beb8dca5fee9809c6c99e9d0d0/fsspec-2024.10.0-py3-none-any.whl.metadata\r\n",
      "  Downloading fsspec-2024.10.0-py3-none-any.whl.metadata (11 kB)\r\n",
      "Requirement already satisfied: setuptools in ./.venv/lib/python3.12/site-packages (from torch) (75.6.0)\r\n",
      "Collecting sympy==1.13.1 (from torch)\r\n",
      "  Obtaining dependency information for sympy==1.13.1 from https://files.pythonhosted.org/packages/b2/fe/81695a1aa331a842b582453b605175f419fe8540355886031328089d840a/sympy-1.13.1-py3-none-any.whl.metadata\r\n",
      "  Downloading sympy-1.13.1-py3-none-any.whl.metadata (12 kB)\r\n",
      "Collecting mpmath<1.4,>=1.1.0 (from sympy==1.13.1->torch)\r\n",
      "  Obtaining dependency information for mpmath<1.4,>=1.1.0 from https://files.pythonhosted.org/packages/43/e3/7d92a15f894aa0c9c4b49b8ee9ac9850d6e63b03c9c32c0367a13ae62209/mpmath-1.3.0-py3-none-any.whl.metadata\r\n",
      "  Downloading mpmath-1.3.0-py3-none-any.whl.metadata (8.6 kB)\r\n",
      "Requirement already satisfied: MarkupSafe>=2.0 in ./.venv/lib/python3.12/site-packages (from jinja2->torch) (3.0.2)\r\n",
      "Downloading torch-2.5.1-cp312-none-macosx_11_0_arm64.whl (63.9 MB)\r\n",
      "\u001B[2K   \u001B[90m━━━━━━━━━━━━━━━━━━━━━━━━━━━━━━━━━━━━━━━━\u001B[0m \u001B[32m63.9/63.9 MB\u001B[0m \u001B[31m24.5 MB/s\u001B[0m eta \u001B[36m0:00:00\u001B[0m00:01\u001B[0m00:01\u001B[0m\r\n",
      "\u001B[?25hDownloading sympy-1.13.1-py3-none-any.whl (6.2 MB)\r\n",
      "\u001B[2K   \u001B[90m━━━━━━━━━━━━━━━━━━━━━━━━━━━━━━━━━━━━━━━━\u001B[0m \u001B[32m6.2/6.2 MB\u001B[0m \u001B[31m34.5 MB/s\u001B[0m eta \u001B[36m0:00:00\u001B[0m00:01\u001B[0m00:01\u001B[0m\r\n",
      "\u001B[?25hDownloading filelock-3.16.1-py3-none-any.whl (16 kB)\r\n",
      "Downloading fsspec-2024.10.0-py3-none-any.whl (179 kB)\r\n",
      "\u001B[2K   \u001B[90m━━━━━━━━━━━━━━━━━━━━━━━━━━━━━━━━━━━━━━━━\u001B[0m \u001B[32m179.6/179.6 kB\u001B[0m \u001B[31m18.1 MB/s\u001B[0m eta \u001B[36m0:00:00\u001B[0m\r\n",
      "\u001B[?25hDownloading networkx-3.4.2-py3-none-any.whl (1.7 MB)\r\n",
      "\u001B[2K   \u001B[90m━━━━━━━━━━━━━━━━━━━━━━━━━━━━━━━━━━━━━━━━\u001B[0m \u001B[32m1.7/1.7 MB\u001B[0m \u001B[31m36.8 MB/s\u001B[0m eta \u001B[36m0:00:00\u001B[0m00:01\u001B[0m\r\n",
      "\u001B[?25hDownloading mpmath-1.3.0-py3-none-any.whl (536 kB)\r\n",
      "\u001B[2K   \u001B[90m━━━━━━━━━━━━━━━━━━━━━━━━━━━━━━━━━━━━━━━━\u001B[0m \u001B[32m536.2/536.2 kB\u001B[0m \u001B[31m33.6 MB/s\u001B[0m eta \u001B[36m0:00:00\u001B[0m\r\n",
      "\u001B[?25hInstalling collected packages: mpmath, sympy, networkx, fsspec, filelock, torch\r\n",
      "Successfully installed filelock-3.16.1 fsspec-2024.10.0 mpmath-1.3.0 networkx-3.4.2 sympy-1.13.1 torch-2.5.1\r\n",
      "\r\n",
      "\u001B[1m[\u001B[0m\u001B[34;49mnotice\u001B[0m\u001B[1;39;49m]\u001B[0m\u001B[39;49m A new release of pip is available: \u001B[0m\u001B[31;49m23.2.1\u001B[0m\u001B[39;49m -> \u001B[0m\u001B[32;49m24.3.1\u001B[0m\r\n",
      "\u001B[1m[\u001B[0m\u001B[34;49mnotice\u001B[0m\u001B[1;39;49m]\u001B[0m\u001B[39;49m To update, run: \u001B[0m\u001B[32;49mpip install --upgrade pip\u001B[0m\r\n",
      "Requirement already satisfied: seaborn in ./.venv/lib/python3.12/site-packages (0.13.2)\r\n",
      "Requirement already satisfied: numpy!=1.24.0,>=1.20 in ./.venv/lib/python3.12/site-packages (from seaborn) (2.1.3)\r\n",
      "Requirement already satisfied: pandas>=1.2 in ./.venv/lib/python3.12/site-packages (from seaborn) (2.2.3)\r\n",
      "Requirement already satisfied: matplotlib!=3.6.1,>=3.4 in ./.venv/lib/python3.12/site-packages (from seaborn) (3.9.3)\r\n",
      "Requirement already satisfied: contourpy>=1.0.1 in ./.venv/lib/python3.12/site-packages (from matplotlib!=3.6.1,>=3.4->seaborn) (1.3.1)\r\n",
      "Requirement already satisfied: cycler>=0.10 in ./.venv/lib/python3.12/site-packages (from matplotlib!=3.6.1,>=3.4->seaborn) (0.12.1)\r\n",
      "Requirement already satisfied: fonttools>=4.22.0 in ./.venv/lib/python3.12/site-packages (from matplotlib!=3.6.1,>=3.4->seaborn) (4.55.1)\r\n",
      "Requirement already satisfied: kiwisolver>=1.3.1 in ./.venv/lib/python3.12/site-packages (from matplotlib!=3.6.1,>=3.4->seaborn) (1.4.7)\r\n",
      "Requirement already satisfied: packaging>=20.0 in ./.venv/lib/python3.12/site-packages (from matplotlib!=3.6.1,>=3.4->seaborn) (24.2)\r\n",
      "Requirement already satisfied: pillow>=8 in ./.venv/lib/python3.12/site-packages (from matplotlib!=3.6.1,>=3.4->seaborn) (11.0.0)\r\n",
      "Requirement already satisfied: pyparsing>=2.3.1 in ./.venv/lib/python3.12/site-packages (from matplotlib!=3.6.1,>=3.4->seaborn) (3.2.0)\r\n",
      "Requirement already satisfied: python-dateutil>=2.7 in ./.venv/lib/python3.12/site-packages (from matplotlib!=3.6.1,>=3.4->seaborn) (2.9.0.post0)\r\n",
      "Requirement already satisfied: pytz>=2020.1 in ./.venv/lib/python3.12/site-packages (from pandas>=1.2->seaborn) (2024.2)\r\n",
      "Requirement already satisfied: tzdata>=2022.7 in ./.venv/lib/python3.12/site-packages (from pandas>=1.2->seaborn) (2024.2)\r\n",
      "Requirement already satisfied: six>=1.5 in ./.venv/lib/python3.12/site-packages (from python-dateutil>=2.7->matplotlib!=3.6.1,>=3.4->seaborn) (1.16.0)\r\n",
      "\r\n",
      "\u001B[1m[\u001B[0m\u001B[34;49mnotice\u001B[0m\u001B[1;39;49m]\u001B[0m\u001B[39;49m A new release of pip is available: \u001B[0m\u001B[31;49m23.2.1\u001B[0m\u001B[39;49m -> \u001B[0m\u001B[32;49m24.3.1\u001B[0m\r\n",
      "\u001B[1m[\u001B[0m\u001B[34;49mnotice\u001B[0m\u001B[1;39;49m]\u001B[0m\u001B[39;49m To update, run: \u001B[0m\u001B[32;49mpip install --upgrade pip\u001B[0m\r\n"
     ]
    }
   ],
   "execution_count": 1
  },
  {
   "metadata": {
    "id": "m05Pb9rwarPZ"
   },
   "cell_type": "markdown",
   "source": [
    "### Importando bibliotecas"
   ]
  },
  {
   "metadata": {
    "id": "BaASgT5darPa",
    "ExecuteTime": {
     "end_time": "2024-12-03T18:02:30.352016Z",
     "start_time": "2024-12-03T18:02:26.905907Z"
    }
   },
   "cell_type": "code",
   "source": [
    "import torch\n",
    "import torch.nn as nn\n",
    "import torch.optim as optim\n",
    "from torch.utils.data import Dataset, DataLoader\n",
    "import mlflow\n",
    "import mlflow.pytorch\n",
    "import numpy as np\n",
    "import yfinance as yf\n",
    "import matplotlib.pyplot as plt\n",
    "from sklearn.preprocessing import StandardScaler,MinMaxScaler\n",
    "import pandas as pd\n",
    "from pandas import DataFrame\n",
    "import seaborn as sns\n",
    "from sklearn.metrics import accuracy_score, precision_score, f1_score\n",
    "import joblib\n",
    "import os\n",
    "\n",
    "PATH = './resources'"
   ],
   "outputs": [],
   "execution_count": 4
  },
  {
   "metadata": {
    "id": "Z1XeGzyMarPb"
   },
   "cell_type": "markdown",
   "source": [
    "### Baixando dataset do yfinance\n",
    "\n",
    "Este techo de código configura o **yfinance** para baixar o histórico de 01/01/2018 a 20/07/2024 do ticket **'DIS' (Disney)**"
   ]
  },
  {
   "cell_type": "code",
   "source": [
    "# Baixar os dados históricos para o ticker DIS\n",
    "df = yf.download('DIS')\n",
    "len(df)"
   ],
   "metadata": {
    "id": "bNzAeLif312y",
    "outputId": "96667b49-cb81-4d75-faba-30718876c21f",
    "colab": {
     "base_uri": "https://localhost:8080/"
    },
    "ExecuteTime": {
     "end_time": "2024-12-03T18:02:41.334244Z",
     "start_time": "2024-12-03T18:02:39.211989Z"
    }
   },
   "outputs": [
    {
     "name": "stderr",
     "output_type": "stream",
     "text": [
      "[*********************100%***********************]  1 of 1 completed\n"
     ]
    },
    {
     "data": {
      "text/plain": [
       "15839"
      ]
     },
     "execution_count": 5,
     "metadata": {},
     "output_type": "execute_result"
    }
   ],
   "execution_count": 5
  },
  {
   "metadata": {
    "id": "jOgKNnOjarPd"
   },
   "cell_type": "markdown",
   "source": [
    "### Análise dos dados\n",
    "\n",
    "Neste trecho, plotamos o volume anual, onde é possível observar que, em 2021, houve um aumento significativamente fora do padrão, podendo ser considerado um outlier."
   ]
  },
  {
   "cell_type": "code",
   "source": [
    "timeseries = df[[\"Volume\"]].values.astype('float32')\n",
    "\n",
    "plt.plot(df.index, timeseries)\n",
    "plt.show()"
   ],
   "metadata": {
    "id": "UNN3P2oFqVul",
    "outputId": "8a5d42a1-bccd-4e2f-c65e-6ebf3c2beea2",
    "colab": {
     "base_uri": "https://localhost:8080/",
     "height": 445
    },
    "ExecuteTime": {
     "end_time": "2024-12-03T18:02:54.320598Z",
     "start_time": "2024-12-03T18:02:54.167180Z"
    }
   },
   "outputs": [
    {
     "data": {
      "text/plain": [
       "<Figure size 640x480 with 1 Axes>"
      ],
      "image/png": "[encoded data removed]"
     },
     "metadata": {},
     "output_type": "display_data"
    }
   ],
   "execution_count": 6
  },
  {
   "metadata": {
    "id": "CACkZLnQarPd"
   },
   "cell_type": "markdown",
   "source": [
    "Neste trecho, plotamos o heatmap para encontrar a combinação mais relevante dos dados em relação ao fechamento da bolsa de valores"
   ]
  },
  {
   "metadata": {
    "id": "sa3-qD4WarPd",
    "outputId": "254584dc-70bd-484f-df74-6ebc2ebc955d",
    "colab": {
     "base_uri": "https://localhost:8080/",
     "height": 452
    },
    "ExecuteTime": {
     "end_time": "2024-12-03T18:03:03.035030Z",
     "start_time": "2024-12-03T18:03:02.904052Z"
    }
   },
   "cell_type": "code",
   "source": [
    "df.columns = ['_'.join(col).replace('_DIS', '').strip() if isinstance(col, tuple) else col for col in df.columns]\n",
    "sns.heatmap( df.corr(), annot = True)\n"
   ],
   "outputs": [
    {
     "data": {
      "text/plain": [
       "<Axes: >"
      ]
     },
     "execution_count": 7,
     "metadata": {},
     "output_type": "execute_result"
    },
    {
     "data": {
      "text/plain": [
       "<Figure size 640x480 with 2 Axes>"
      ],
      "image/png": "[encoded data removed]"
     },
     "metadata": {},
     "output_type": "display_data"
    }
   ],
   "execution_count": 7
  },
  {
   "cell_type": "markdown",
   "source": [
    "Percebemos que o único campo com uma baixa correlação de informações relevantes é o `volume`, enquanto os demais influenciam diretamente os valores de saída."
   ],
   "metadata": {
    "id": "i5a_HfvEFclw"
   }
  },
  {
   "metadata": {
    "id": "DfTbgUnOarPe"
   },
   "cell_type": "markdown",
   "source": [
    "#### Pré processamento dos dados"
   ]
  },
  {
   "cell_type": "code",
   "source": [
    "# Remoção dos inices de data\n",
    "df =  df.reset_index()\n",
    "df = df.drop(columns=['Date'])\n",
    "\n",
    "# Isolamento dos dados para entra X e saida Y\n",
    "X = df.drop(columns=['Close']).values.astype(np.float32)\n",
    "Y = df[['Close']].values.astype(np.float32)\n",
    "\n",
    "# Normalizando dados\n",
    "scalerX = StandardScaler()\n",
    "scalerY = StandardScaler()\n",
    "X = scalerX.fit_transform(X)\n",
    "Y = scalerY.fit_transform(Y)\n",
    "\n",
    "# Salvando artefato dos normalizadores de dados\n",
    "joblib.dump(scalerX, f'{PATH}/scalerX.pkl')\n",
    "joblib.dump(scalerY, f'{PATH}/scalerY.pkl')"
   ],
   "metadata": {
    "id": "wOGC1AlOPSsQ",
    "colab": {
     "base_uri": "https://localhost:8080/"
    },
    "outputId": "ef9e042a-b760-4909-b0fd-6737e058bdfc",
    "ExecuteTime": {
     "end_time": "2024-12-03T18:03:22.429038Z",
     "start_time": "2024-12-03T18:03:22.416441Z"
    }
   },
   "outputs": [
    {
     "data": {
      "text/plain": [
       "['./resources/scalerY.pkl']"
      ]
     },
     "execution_count": 8,
     "metadata": {},
     "output_type": "execute_result"
    }
   ],
   "execution_count": 8
  },
  {
   "cell_type": "markdown",
   "source": [
    "#### Criando diretório para organização dos artefatos"
   ],
   "metadata": {
    "id": "ykkNcm3HF66R"
   }
  },
  {
   "cell_type": "code",
   "source": [
    "try:\n",
    "    os.mkdir(PATH)\n",
    "    print(f\"Directory '{PATH}' created successfully.\")\n",
    "except FileExistsError:\n",
    "    print(f\"Directory '{PATH}' already exists.\")\n"
   ],
   "metadata": {
    "id": "MAzLC_SjEnG7",
    "outputId": "d92f5d1a-2f6e-4b71-b68f-f09252698ba8",
    "colab": {
     "base_uri": "https://localhost:8080/"
    },
    "ExecuteTime": {
     "end_time": "2024-12-03T18:03:33.900124Z",
     "start_time": "2024-12-03T18:03:33.891586Z"
    }
   },
   "outputs": [
    {
     "name": "stdout",
     "output_type": "stream",
     "text": [
      "Directory './resources' already exists.\n"
     ]
    }
   ],
   "execution_count": 9
  },
  {
   "cell_type": "markdown",
   "source": [
    "### Construindo o modelo"
   ],
   "metadata": {
    "id": "NWsEV9FtHxBI"
   }
  },
  {
   "metadata": {
    "id": "AcvvyU8oarPe"
   },
   "cell_type": "markdown",
   "source": [
    "Após algumas tentativas verificamos que essa é a mlehor combinação de hiperparâmetos do modelo"
   ]
  },
  {
   "metadata": {
    "id": "B5Mn9p6AarPe",
    "ExecuteTime": {
     "end_time": "2024-12-03T18:03:49.207686Z",
     "start_time": "2024-12-03T18:03:49.203347Z"
    }
   },
   "cell_type": "code",
   "source": [
    "input_size = 5\n",
    "hidden_size = 100\n",
    "num_layers = 4\n",
    "output_size = 1\n",
    "learning_rate = 0.01\n",
    "num_epochs = 10\n",
    "batch_size = 64"
   ],
   "outputs": [],
   "execution_count": 10
  },
  {
   "metadata": {
    "id": "kbnrTIA8arPf"
   },
   "cell_type": "markdown",
   "source": [
    "#### Criando o modelo RNN com LSTM"
   ]
  },
  {
   "metadata": {
    "id": "Q71nbMpParPf",
    "ExecuteTime": {
     "end_time": "2024-12-03T18:03:54.989014Z",
     "start_time": "2024-12-03T18:03:54.978669Z"
    }
   },
   "cell_type": "code",
   "source": [
    "# Modelo LSTM com arquitetura sequencial\n",
    "class LSTMModel(nn.Module):\n",
    "    def __init__(self, input_size=5, hidden_size=100, num_layers=4, output_size=1):\n",
    "        super(LSTMModel, self).__init__()\n",
    "        self.lstm = nn.LSTM(input_size, hidden_size, num_layers, batch_first=True)\n",
    "        self.fc = nn.Linear(hidden_size, output_size)\n",
    "\n",
    "\n",
    "    def forward(self, x):\n",
    "        # Passa os dados pelo modelo sequencial\n",
    "        output, _ = self.lstm(x)\n",
    "\n",
    "        return self.fc(output)"
   ],
   "outputs": [],
   "execution_count": 11
  },
  {
   "metadata": {
    "id": "afDVX6pTarPf"
   },
   "cell_type": "markdown",
   "source": [
    "#### Convertendo o dataframe para um dataset"
   ]
  },
  {
   "metadata": {
    "id": "y7LG19n_arPf",
    "ExecuteTime": {
     "end_time": "2024-12-03T18:03:58.265423Z",
     "start_time": "2024-12-03T18:03:58.261045Z"
    }
   },
   "cell_type": "code",
   "source": [
    "# Dataset para treinamento\n",
    "class YfinanceTrainDataset(Dataset):\n",
    "    def __init__(self, x, y):\n",
    "        super(YfinanceTrainDataset, self).__init__()\n",
    "\n",
    "        self.data = x\n",
    "        self.labels = y\n",
    "\n",
    "    def __len__(self):\n",
    "        return len(self.data)\n",
    "\n",
    "    def __getitem__(self, idx):\n",
    "        return torch.tensor(self.data[idx]), torch.tensor(self.labels[idx])"
   ],
   "outputs": [],
   "execution_count": 12
  },
  {
   "metadata": {
    "id": "xNkGv943arPf"
   },
   "cell_type": "markdown",
   "source": [
    "#### Configurando treinamento do modelo"
   ]
  },
  {
   "cell_type": "code",
   "source": [
    "# Dispositivo (CPU ou GPU)\n",
    "device = torch.device('cuda' if torch.cuda.is_available() else 'cpu')\n",
    "\n",
    "# Funções de treinamento e avaliação\n",
    "def train_model(train_loader, test_loader):\n",
    "    model = LSTMModel(input_size, hidden_size, num_layers, output_size).to(device)\n",
    "    criterion = nn.MSELoss()\n",
    "    optimizer = optim.Adam(model.parameters(), lr=learning_rate)\n",
    "\n",
    "    mlflow.set_experiment(\"LSTM Artificial Data Regression\")\n",
    "    with mlflow.start_run():\n",
    "        mlflow.log_param(\"input_size\", input_size)\n",
    "        mlflow.log_param(\"hidden_size\", hidden_size)\n",
    "        mlflow.log_param(\"num_layers\", num_layers)\n",
    "        mlflow.log_param(\"output_size\", output_size)\n",
    "        mlflow.log_param(\"num_epochs\", num_epochs)\n",
    "        mlflow.log_param(\"batch_size\", batch_size)\n",
    "        mlflow.log_param(\"learning_rate\", learning_rate)\n",
    "\n",
    "        for epoch in range(num_epochs):\n",
    "            model.train()\n",
    "            running_loss = 0.0\n",
    "\n",
    "            for i, (sequences, labels) in enumerate(train_loader):\n",
    "                sequences, labels = sequences.to(device), labels.to(device)\n",
    "\n",
    "                # Forward pass\n",
    "                outputs = model(sequences)\n",
    "                loss = criterion(outputs, labels)\n",
    "\n",
    "                # Backward pass e otimização\n",
    "                optimizer.zero_grad()\n",
    "                loss.backward()\n",
    "                optimizer.step()\n",
    "\n",
    "                running_loss += loss.item()\n",
    "\n",
    "                if i % 100 == 0:\n",
    "                    print(f\"Epoch [{epoch+1}/{num_epochs}], Step [{i+1}/{len(train_loader)}], Loss: {loss.item():.4f}\")\n",
    "                    mlflow.log_metric(\"train_loss\", running_loss / (i+1), step=epoch * len(train_loader) + i)\n",
    "\n",
    "        mlflow.pytorch.log_model(model, \"lstm_artificial_data_model\")\n",
    "        evaluate_model(model, test_loader)\n",
    "        return model\n",
    "\n",
    "\n",
    "def evaluate_model(model, test_loader):\n",
    "    model.eval()\n",
    "    test_loss = 0.0\n",
    "    with torch.no_grad():\n",
    "        for sequences, labels in test_loader:\n",
    "            sequences, labels = sequences.to(device), labels.to(device)\n",
    "            outputs = model(sequences)\n",
    "            loss = nn.MSELoss()(outputs, labels)\n",
    "            test_loss += loss.item()\n",
    "\n",
    "    average_test_loss = test_loss / len(test_loader)\n",
    "    print(f\"Test Loss: {average_test_loss:.4f}\")\n",
    "    mlflow.log_metric(\"test_loss\", average_test_loss)"
   ],
   "metadata": {
    "id": "I18fT9yhmGJb",
    "ExecuteTime": {
     "end_time": "2024-12-03T18:04:00.175232Z",
     "start_time": "2024-12-03T18:04:00.166252Z"
    }
   },
   "outputs": [],
   "execution_count": 13
  },
  {
   "metadata": {
    "id": "ufbihyuparPg",
    "outputId": "499274fe-991e-4bb5-ad72-60b43be66b6e",
    "colab": {
     "base_uri": "https://localhost:8080/"
    },
    "ExecuteTime": {
     "end_time": "2024-12-03T18:05:21.506114Z",
     "start_time": "2024-12-03T18:04:03.938252Z"
    }
   },
   "cell_type": "code",
   "source": [
    "dataset = YfinanceTrainDataset(X, Y)\n",
    "train_loader = DataLoader(dataset, batch_size=batch_size, shuffle=True)\n",
    "test_loader = DataLoader(dataset, batch_size=batch_size, shuffle=False)\n",
    "\n",
    "model = train_model(train_loader, test_loader)\n",
    "torch.save(model.state_dict(), f'{PATH}/model.pt')"
   ],
   "outputs": [
    {
     "name": "stderr",
     "output_type": "stream",
     "text": [
      "2024/12/03 15:04:04 INFO mlflow.tracking.fluent: Experiment with name 'LSTM Artificial Data Regression' does not exist. Creating a new experiment.\n"
     ]
    },
    {
     "name": "stdout",
     "output_type": "stream",
     "text": [
      "Epoch [1/10], Step [1/248], Loss: 0.7975\n",
      "Epoch [1/10], Step [101/248], Loss: 0.0076\n",
      "Epoch [1/10], Step [201/248], Loss: 0.0008\n",
      "Epoch [2/10], Step [1/248], Loss: 0.0007\n",
      "Epoch [2/10], Step [101/248], Loss: 0.0027\n",
      "Epoch [2/10], Step [201/248], Loss: 0.0020\n",
      "Epoch [3/10], Step [1/248], Loss: 0.0060\n",
      "Epoch [3/10], Step [101/248], Loss: 0.0011\n",
      "Epoch [3/10], Step [201/248], Loss: 0.0025\n",
      "Epoch [4/10], Step [1/248], Loss: 0.0009\n",
      "Epoch [4/10], Step [101/248], Loss: 0.0030\n",
      "Epoch [4/10], Step [201/248], Loss: 0.0004\n",
      "Epoch [5/10], Step [1/248], Loss: 0.0023\n",
      "Epoch [5/10], Step [101/248], Loss: 0.0006\n",
      "Epoch [5/10], Step [201/248], Loss: 0.0007\n",
      "Epoch [6/10], Step [1/248], Loss: 0.0003\n",
      "Epoch [6/10], Step [101/248], Loss: 0.0016\n",
      "Epoch [6/10], Step [201/248], Loss: 0.0003\n",
      "Epoch [7/10], Step [1/248], Loss: 0.0005\n",
      "Epoch [7/10], Step [101/248], Loss: 0.0004\n",
      "Epoch [7/10], Step [201/248], Loss: 0.0012\n",
      "Epoch [8/10], Step [1/248], Loss: 0.0033\n",
      "Epoch [8/10], Step [101/248], Loss: 0.0010\n",
      "Epoch [8/10], Step [201/248], Loss: 0.0020\n",
      "Epoch [9/10], Step [1/248], Loss: 0.0014\n",
      "Epoch [9/10], Step [101/248], Loss: 0.0026\n",
      "Epoch [9/10], Step [201/248], Loss: 0.0013\n",
      "Epoch [10/10], Step [1/248], Loss: 0.0032\n",
      "Epoch [10/10], Step [101/248], Loss: 0.0010\n",
      "Epoch [10/10], Step [201/248], Loss: 0.0027\n"
     ]
    },
    {
     "name": "stderr",
     "output_type": "stream",
     "text": [
      "2024/12/03 15:05:20 WARNING mlflow.models.model: Model logged without a signature and input example. Please set `input_example` parameter when logging the model to auto infer the model signature.\n"
     ]
    },
    {
     "name": "stdout",
     "output_type": "stream",
     "text": [
      "Test Loss: 0.0011\n"
     ]
    }
   ],
   "execution_count": 14
  },
  {
   "metadata": {
    "id": "Vu_HQc0CarPg"
   },
   "cell_type": "markdown",
   "source": [
    "### Testando modelo\n",
    "\n",
    "Para realizar o teste do modelo, seguimos os seguintes passos:\n",
    "\n",
    "1. **Carregar o modelo treinado**: Utilizamos o PyTorch para carregar os pesos salvos previamente.\n",
    "2. **Carregar os normalizadores de dados**: Lemos os arquivos do `joblib` para normalizar e desnormalizar os dados.\n",
    "3. **Criar dados fictícios para inferência**: Simulamos uma entrada no formato esperado pelo modelo.\n",
    "4. **Normalizar os dados de entrada**: Ajustamos os valores para a escala utilizada durante o treinamento.\n",
    "5. **Converter os dados em tensores**: Transformamos os dados normalizados em tensores PyTorch, compatíveis com o modelo.\n",
    "6. **Realizar a inferência**: Passamos os dados pelo modelo para obter a previsão.\n",
    "7. **Desnormalizar os resultados**: Retornamos os valores para sua escala original, permitindo interpretação.\n"
   ]
  },
  {
   "cell_type": "code",
   "source": [
    "model =  LSTMModel()\n",
    "model.load_state_dict(torch.load(f'{PATH}/model.pt', weights_only=True))\n",
    "model.eval()\n",
    "\n",
    "# Lendo padronizador de dados\n",
    "scalerx = joblib.load(f'{PATH}/scalerX.pkl')\n",
    "scalery = joblib.load(f'{PATH}/scalerY.pkl')\n",
    "\n",
    "# Exemplo de entrada\n",
    "entrada = np.array([[107.875183,\t\t111.809998,\t108.559998,\t108.949997,\t11014300]], dtype=np.float32)\n",
    "\n",
    "# Transformação dos dados\n",
    "entrada_normalizada = scalerx.transform(entrada)\n",
    "\n",
    "# Converte para tensor e ajusta para o formato esperado pelo modelo (batch_size=1, seq_len=1, input_size=4)\n",
    "entrada_tensor = torch.tensor(entrada_normalizada, dtype=torch.float32).unsqueeze(0).to(device)\n",
    "\n",
    "# Obtenha o resultado do modelo\n",
    "result = model(entrada_tensor)  # Certifique-se de que model é uma função ou objeto chamável\n",
    "\n",
    "# Desconecte o tensor do grafo computacional e converta para NumPy\n",
    "result_numpy = result.detach().cpu().numpy()  # Use `.cpu()` se o tensor estiver na GPU\n",
    "\n",
    "# Desnormalização\n",
    "result_desnormalizado = scalery.inverse_transform(result_numpy[0])\n",
    "\n",
    "print(result_desnormalizado)\n"
   ],
   "metadata": {
    "colab": {
     "base_uri": "https://localhost:8080/"
    },
    "id": "7i7RlVCBAEm0",
    "outputId": "73b4e707-30be-4aa4-a976-8ab67f252061",
    "ExecuteTime": {
     "end_time": "2024-12-03T18:05:48.257748Z",
     "start_time": "2024-12-03T18:05:48.219319Z"
    }
   },
   "outputs": [
    {
     "name": "stdout",
     "output_type": "stream",
     "text": [
      "[[108.780624]]\n"
     ]
    }
   ],
   "execution_count": 15
  },
  {
   "metadata": {},
   "cell_type": "code",
   "outputs": [],
   "execution_count": null,
   "source": ""
  }
 ]
}
